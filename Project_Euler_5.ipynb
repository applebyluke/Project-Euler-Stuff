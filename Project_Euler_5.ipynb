{
 "cells": [
  {
   "cell_type": "code",
   "execution_count": 3,
   "id": "8bb7534f-9b99-46d0-a27b-0c139db5894f",
   "metadata": {},
   "outputs": [
    {
     "name": "stdout",
     "output_type": "stream",
     "text": [
      "[2, 3, 5, 7, 11, 13, 17, 19]\n"
     ]
    }
   ],
   "source": [
    "# Preamble\n",
    "\n",
    "l_primes = [2]\n",
    "\n",
    "for i in range(2,20):\n",
    "    for j in l_primes:\n",
    "        #Test if i has any prime divisors\n",
    "        if i % j == 0:\n",
    "            # print(i, \" ain't prime\")\n",
    "            break \n",
    "        # If all primes have been tested (it is a theorem that if 2j > i then all primes larger than j don't divide i)\n",
    "        elif 2*j > i:\n",
    "            # print(i, \"is prime!\")\n",
    "            l_primes.append(i)\n",
    "            break\n",
    "\n",
    "print(l_primes)\n",
    "\n",
    "# Gives true if x divides y, false otherwise\n",
    "def divides(x,y):\n",
    "    return y / x == y // x"
   ]
  },
  {
   "cell_type": "code",
   "execution_count": 27,
   "id": "8e804107-1463-4382-a380-f0a8fc8aaf10",
   "metadata": {},
   "outputs": [
    {
     "name": "stdout",
     "output_type": "stream",
     "text": [
      "2432902008176640000\n"
     ]
    },
    {
     "data": {
      "text/plain": [
       "232792560.0"
      ]
     },
     "execution_count": 27,
     "metadata": {},
     "output_type": "execute_result"
    }
   ],
   "source": [
    "x = 1\n",
    "l = []\n",
    "for i in range(1,21):\n",
    "    x *= i\n",
    "    l.append(i)\n",
    "print(x)\n",
    "\n",
    "for i in l[1:]:\n",
    "    \n",
    "    while all([divides(j,x/i) for j in l]):\n",
    "        x = x/i\n",
    "x"
   ]
  },
  {
   "cell_type": "code",
   "execution_count": 29,
   "id": "1a8bc9cc-8661-4fa4-83f2-6b906d24fd80",
   "metadata": {},
   "outputs": [],
   "source": [
    "x = 1*2*3*4*5*6*7*8*9*10\n",
    "newList = [divides(i**2,x) for i in l]"
   ]
  },
  {
   "cell_type": "code",
   "execution_count": null,
   "id": "a0686432-14f7-437d-b548-6bdc3c6f5011",
   "metadata": {},
   "outputs": [],
   "source": []
  }
 ],
 "metadata": {
  "kernelspec": {
   "display_name": "Python 3 (ipykernel)",
   "language": "python",
   "name": "python3"
  },
  "language_info": {
   "codemirror_mode": {
    "name": "ipython",
    "version": 3
   },
   "file_extension": ".py",
   "mimetype": "text/x-python",
   "name": "python",
   "nbconvert_exporter": "python",
   "pygments_lexer": "ipython3",
   "version": "3.12.4"
  }
 },
 "nbformat": 4,
 "nbformat_minor": 5
}
