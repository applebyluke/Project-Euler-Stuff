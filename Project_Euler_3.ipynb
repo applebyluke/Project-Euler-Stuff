{
 "cells": [
  {
   "cell_type": "markdown",
   "metadata": {},
   "source": [
    "What is the largest prime factor of 600851475143?\n"
   ]
  },
  {
   "cell_type": "markdown",
   "metadata": {},
   "source": [
    "Some algorythms to generate lists of primes:"
   ]
  },
  {
   "cell_type": "code",
   "execution_count": 1,
   "metadata": {},
   "outputs": [
    {
     "name": "stdout",
     "output_type": "stream",
     "text": [
      "[2, 3, 5, 7, 11, 13, 17, 19, 23, 29, 31, 37, 41, 43, 47, 53, 59, 61, 67, 71, 73, 79, 83, 89, 97]\n"
     ]
    }
   ],
   "source": [
    "# Without numpy\n",
    "\n",
    "l_primes = [2]\n",
    "\n",
    "for i in range(1,100):\n",
    "    for j in range (2,i):\n",
    "        #Test if i has any divisors other than 1\n",
    "        if i % j == 0:\n",
    "            # print(i, \" ain't prime\")\n",
    "            break \n",
    "        elif j == i-1:\n",
    "            # print(i, \"is prime!\")\n",
    "            l_primes.append(i)\n",
    "\n",
    "print(l_primes)\n",
    "l0 = l_primes"
   ]
  },
  {
   "cell_type": "code",
   "execution_count": 3,
   "metadata": {},
   "outputs": [
    {
     "name": "stdout",
     "output_type": "stream",
     "text": [
      "[2, 3, 5, 7, 11, 13, 17, 19, 23, 29, 31, 37, 41, 43, 47, 53, 59, 61, 67, 71, 73, 79, 83, 89, 97]\n"
     ]
    }
   ],
   "source": [
    "# Without numpy, V2\n",
    "\n",
    "l_primes = [2]\n",
    "\n",
    "for i in range(2,100):\n",
    "    for j in l_primes:\n",
    "        #Test if i has any prime divisors\n",
    "        if i % j == 0:\n",
    "            # print(i, \" ain't prime\")\n",
    "            break \n",
    "        # If all primes have been tested (it is a theorem that if 2j > i then all primes larger than j don't divide i)\n",
    "        elif 2*j > i:\n",
    "            # print(i, \"is prime!\")\n",
    "            l_primes.append(i)\n",
    "            break\n",
    "\n",
    "print(l_primes)\n",
    "l1 = l_primes"
   ]
  },
  {
   "cell_type": "code",
   "execution_count": 4,
   "metadata": {},
   "outputs": [
    {
     "data": {
      "text/plain": [
       "True"
      ]
     },
     "execution_count": 4,
     "metadata": {},
     "output_type": "execute_result"
    }
   ],
   "source": [
    "l0 == l1"
   ]
  },
  {
   "cell_type": "markdown",
   "metadata": {},
   "source": [
    "Thm: If $x < y$ amd $z \\leq x$ are such that $z$ does not divide $y$ and $px > y$ for all primes $p<x$ then $y$ is prime.\n",
    "\n",
    "Proof: \n",
    "Since all $z<x$ do not divide y, let $a > x$ divide $y$ such that $a \\neq 1, a \\neq y$. Then $y = ab$ for some natural number $b$ greater than 1. But then $b = p_1^{k_1} \\cdots p_n^{k_n}$ (prime decomposition) which means $p_1$ divides $y$ however $y \\geq p_1a > p_1x > y$ by hypothesis and so $y$ is prime. $\\square$ "
   ]
  },
  {
   "cell_type": "code",
   "execution_count": 7,
   "metadata": {},
   "outputs": [],
   "source": [
    "3 / 5 == 3 // 5\n",
    "\n",
    "# Gives true if x divides y, false otherwise\n",
    "def divides(x,y):\n",
    "    return y / x == y // x"
   ]
  },
  {
   "cell_type": "code",
   "execution_count": 10,
   "metadata": {},
   "outputs": [
    {
     "data": {
      "text/plain": [
       "1.0"
      ]
     },
     "execution_count": 10,
     "metadata": {},
     "output_type": "execute_result"
    }
   ],
   "source": [
    "x = 2\n",
    "y = 64\n",
    "\n",
    "# Divides y by x until y is not divisable by y\n",
    "while divides(x,y):\n",
    "    y = y/x\n",
    "\n",
    "y"
   ]
  },
  {
   "cell_type": "markdown",
   "metadata": {},
   "source": [
    "## Solution!! ##"
   ]
  },
  {
   "cell_type": "code",
   "execution_count": 13,
   "metadata": {},
   "outputs": [],
   "source": [
    "'''\n",
    "Begining with x = 2 we test if x divides y, if so we add x to the list of prime factors then divide y by x as many times as possible.\n",
    "Then we add 1 to x and continue testing until y = 1 meaning that we have found all the prime factors. By nature of the our design we do not \n",
    "have to test if these factors are prime. Unnfortunately it is very slow for large prime numbers.\n",
    "'''\n",
    "def prime_factors(y):\n",
    "    L = []\n",
    "    x = 2\n",
    "    while y > 1:\n",
    "        if divides(x,y):\n",
    "            L.append(x)\n",
    "            while divides(x,y):\n",
    "                y = y/x\n",
    "        x += 1\n",
    "    return L\n",
    "\n"
   ]
  },
  {
   "cell_type": "code",
   "execution_count": 17,
   "metadata": {},
   "outputs": [
    {
     "data": {
      "text/plain": [
       "[71, 839, 1471, 6857]"
      ]
     },
     "execution_count": 17,
     "metadata": {},
     "output_type": "execute_result"
    }
   ],
   "source": [
    "prime_factors(600851475143)"
   ]
  },
  {
   "cell_type": "code",
   "execution_count": null,
   "metadata": {},
   "outputs": [],
   "source": []
  }
 ],
 "metadata": {
  "kernelspec": {
   "display_name": "Python 3 (ipykernel)",
   "language": "python",
   "name": "python3"
  },
  "language_info": {
   "codemirror_mode": {
    "name": "ipython",
    "version": 3
   },
   "file_extension": ".py",
   "mimetype": "text/x-python",
   "name": "python",
   "nbconvert_exporter": "python",
   "pygments_lexer": "ipython3",
   "version": "3.12.4"
  }
 },
 "nbformat": 4,
 "nbformat_minor": 4
}
