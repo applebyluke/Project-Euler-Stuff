{
 "cells": [
  {
   "cell_type": "code",
   "execution_count": 51,
   "id": "08191e7c-1392-491d-86b5-8e3d589cf743",
   "metadata": {},
   "outputs": [],
   "source": [
    "import numpy as np"
   ]
  },
  {
   "cell_type": "code",
   "execution_count": 145,
   "id": "13eed25f-81db-40d9-920a-30b0f9852d41",
   "metadata": {},
   "outputs": [],
   "source": [
    "# Computes the sum of the squares of the first n natural numbers. \n",
    "def sum_square(n):\n",
    "    ans = 0\n",
    "    for i in range(n+1):\n",
    "        ans += i**2\n",
    "    return ans"
   ]
  },
  {
   "cell_type": "code",
   "execution_count": 148,
   "id": "7b31c588-8c8f-4de9-8f70-06478fe6e7c1",
   "metadata": {},
   "outputs": [
    {
     "data": {
      "text/plain": [
       "333333383333335000000"
      ]
     },
     "execution_count": 148,
     "metadata": {},
     "output_type": "execute_result"
    }
   ],
   "source": [
    "sum_squares(10000000)"
   ]
  },
  {
   "cell_type": "code",
   "execution_count": 150,
   "id": "940fc084-31a7-44c2-91de-bebf3344066e",
   "metadata": {},
   "outputs": [],
   "source": [
    "# Computes the sum of the squares of the first n natural numbers. With numpy!! Is it any faster IDK? But numpy :)\n",
    "\n",
    "def Nsum_squares(n):\n",
    "    return int(sum(np.linspace(1,n,n)**2))"
   ]
  },
  {
   "cell_type": "code",
   "execution_count": 152,
   "id": "8414845a-57df-4bbe-9fb2-57b507fde1f3",
   "metadata": {},
   "outputs": [],
   "source": [
    "# Calculates the square of the sum of the first n natural numbers\n",
    "def square_sum(n):\n",
    "    ans = 0\n",
    "    for i in range(n+1):\n",
    "        ans += i\n",
    "    return ans**2"
   ]
  },
  {
   "cell_type": "code",
   "execution_count": 154,
   "id": "9f4b79cf-4d05-4d5f-a1f9-fc1063327331",
   "metadata": {},
   "outputs": [],
   "source": [
    "# Calculates the square of the sum of the first n natural numbers. With numpy!! Is it any faster IDK? But numpy :)\n",
    "def Nsquare_sum(n):\n",
    "    return int(sum(np.linspace(1,n,n))**2)"
   ]
  },
  {
   "cell_type": "code",
   "execution_count": 156,
   "id": "1212aef1-aba4-4bbd-a32f-318320483eee",
   "metadata": {},
   "outputs": [],
   "source": [
    "# Calculates the difference between the square of the sum and the sum of the squares of the first n natural numbers\n",
    "def square_dif(n):\n",
    "    return square_sum(n) - sum_square(n)"
   ]
  },
  {
   "cell_type": "code",
   "execution_count": 158,
   "id": "2acf6d0a-ae04-4c06-9b55-95dc44df9382",
   "metadata": {},
   "outputs": [
    {
     "data": {
      "text/plain": [
       "25164150"
      ]
     },
     "execution_count": 158,
     "metadata": {},
     "output_type": "execute_result"
    }
   ],
   "source": [
    "square_dif(100)"
   ]
  },
  {
   "cell_type": "code",
   "execution_count": null,
   "id": "6cc5cb0c-7dec-437a-9f13-f302a26b5a7a",
   "metadata": {},
   "outputs": [],
   "source": []
  }
 ],
 "metadata": {
  "kernelspec": {
   "display_name": "Python 3 (ipykernel)",
   "language": "python",
   "name": "python3"
  },
  "language_info": {
   "codemirror_mode": {
    "name": "ipython",
    "version": 3
   },
   "file_extension": ".py",
   "mimetype": "text/x-python",
   "name": "python",
   "nbconvert_exporter": "python",
   "pygments_lexer": "ipython3",
   "version": "3.12.4"
  }
 },
 "nbformat": 4,
 "nbformat_minor": 5
}
