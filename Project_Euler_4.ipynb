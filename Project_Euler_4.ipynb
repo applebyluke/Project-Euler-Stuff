{
 "cells": [
  {
   "cell_type": "code",
   "execution_count": 62,
   "id": "8664134f-fd41-4e3c-95db-3ff9e10936de",
   "metadata": {},
   "outputs": [],
   "source": [
    "import numpy as np\n",
    "\n",
    "# True if x is a palendrome\n",
    "def is_pdm(x):\n",
    "    return str(x) == str(x)[::-1]\n",
    "\n",
    "# True if x divides y\n",
    "def divides(x,y):\n",
    "    return y / x == y // x\n"
   ]
  },
  {
   "cell_type": "code",
   "execution_count": 64,
   "id": "8a700449-6db5-4cb1-ba94-bc4452cb5b52",
   "metadata": {},
   "outputs": [
    {
     "name": "stdout",
     "output_type": "stream",
     "text": [
      "999999\n"
     ]
    }
   ],
   "source": [
    "# Finds the larges palendrome\n",
    "for i in range(1000000,10000, -1):\n",
    "    if is_pdm(i):\n",
    "        print(i)\n",
    "        break\n",
    "        "
   ]
  },
  {
   "cell_type": "markdown",
   "id": "e2f0985c-d884-4011-ade5-a82f22e98fdc",
   "metadata": {},
   "source": [
    "**Theorem:**\n",
    "If $i$ is a product of two three digit numbers $xyz = 10^2x + 10y + z, abc = 10^2a + 10b + c$ then $i/1000 \\leq xyz, \\, abc \\leq i/100$."
   ]
  },
  {
   "cell_type": "code",
   "execution_count": 157,
   "id": "6811ff8e-073a-4828-b0fd-3fb60532955f",
   "metadata": {},
   "outputs": [
    {
     "name": "stdout",
     "output_type": "stream",
     "text": [
      "906609  =  913 · 993\n"
     ]
    }
   ],
   "source": [
    "# Finds all the palendromes that are multiples of two 3 digit numbers, gives a list of lists\n",
    "# The check bussiness means we only get the first palendrome \n",
    "\n",
    "spec_pdoms = []\n",
    "for i in range(998001,10000, -1):\n",
    "    check = False\n",
    "    if is_pdm(i):\n",
    "        \n",
    "        top = min(999, int(np.floor(i/100)))\n",
    "        bottom = max(100, int(np.ceil(i/1000)))\n",
    "        \n",
    "        for j in range(bottom, top):\n",
    "            if divides(j,i):\n",
    "                #print(i, ' = ', j, u'\\u00B7', int(i/j)) \n",
    "                spec_pdoms.append([i, ' = ', j, u'\\u00B7', int(i/j)])\n",
    "                check = True\n",
    "                break # Remove if you want all factorisations \n",
    "        if check:\n",
    "            break # Remove this and the other check bits to get all palendromes\n",
    "                \n",
    "                \n",
    "\n",
    "print(*spec_pdoms[0])"
   ]
  },
  {
   "cell_type": "code",
   "execution_count": 56,
   "id": "17e74e7f-bcac-40f1-a940-7e8461af5a26",
   "metadata": {},
   "outputs": [
    {
     "name": "stdout",
     "output_type": "stream",
     "text": [
      "·\n"
     ]
    }
   ],
   "source": [
    "print(u'\\u00B7')"
   ]
  },
  {
   "cell_type": "code",
   "execution_count": 73,
   "id": "7b245da1-08e0-4c03-afbb-ab403dc38975",
   "metadata": {},
   "outputs": [
    {
     "data": {
      "text/plain": [
       "2"
      ]
     },
     "execution_count": 73,
     "metadata": {},
     "output_type": "execute_result"
    }
   ],
   "source": [
    "max(1,2)"
   ]
  },
  {
   "cell_type": "code",
   "execution_count": 137,
   "id": "4a746aba-f535-4349-bdfc-f19d5420101b",
   "metadata": {},
   "outputs": [
    {
     "name": "stdout",
     "output_type": "stream",
     "text": [
      "0\n"
     ]
    }
   ],
   "source": [
    "for i in range(10):\n",
    "    if divides(2,i):\n",
    "        print(i)\n",
    "        break"
   ]
  },
  {
   "cell_type": "code",
   "execution_count": null,
   "id": "2bbaf44d-bcbc-41cd-a215-357d25aa9973",
   "metadata": {},
   "outputs": [],
   "source": []
  }
 ],
 "metadata": {
  "kernelspec": {
   "display_name": "Python 3 (ipykernel)",
   "language": "python",
   "name": "python3"
  },
  "language_info": {
   "codemirror_mode": {
    "name": "ipython",
    "version": 3
   },
   "file_extension": ".py",
   "mimetype": "text/x-python",
   "name": "python",
   "nbconvert_exporter": "python",
   "pygments_lexer": "ipython3",
   "version": "3.12.4"
  }
 },
 "nbformat": 4,
 "nbformat_minor": 5
}
